{
 "cells": [
  {
   "cell_type": "markdown",
   "metadata": {},
   "source": [
    "# My first jupyter notebook, noice\n",
    "\n",
    "Just an example where linear regression performs better than DT"
   ]
  },
  {
   "cell_type": "code",
   "execution_count": 1,
   "metadata": {},
   "outputs": [],
   "source": [
    "import numpy as np\n",
    "import matplotlib.pyplot as plt\n",
    "from sklearn.tree import DecisionTreeRegressor\n",
    "from sklearn.linear_model import LinearRegression"
   ]
  },
  {
   "cell_type": "markdown",
   "metadata": {},
   "source": [
    "## Create data"
   ]
  },
  {
   "cell_type": "code",
   "execution_count": 2,
   "metadata": {},
   "outputs": [
    {
     "data": {
      "image/png": "[encoded data removed]",
      "text/plain": [
       "<Figure size 504x288 with 1 Axes>"
      ]
     },
     "metadata": {
      "needs_background": "light"
     },
     "output_type": "display_data"
    }
   ],
   "source": [
    "plt.figure(figsize=(7,4))\n",
    "x = np.linspace(0,2,10000)\n",
    "y = 1+ 3*x\n",
    "plt.scatter(x,y)\n",
    "plt.show()"
   ]
  },
  {
   "cell_type": "code",
   "execution_count": 3,
   "metadata": {},
   "outputs": [],
   "source": [
    "# random permutation of 0..len-1, then crop off 30%, then sort remainder\n",
    "idxs_train = sorted(np.random.permutation(len(x))[:int(0.7*len(x))])\n",
    "idx_test = [i for i in range(0,len(x)) if i not in idxs_train]\n",
    "\n",
    "# train, validation set split\n",
    "x_trn, x_val = x[idxs_train,None], x[idx_test,None] # model expects 2D arrays\n",
    "y_trn, y_val = y[idxs_train,None], y[idx_test,None]\n",
    "\n",
    "\n",
    "# fit a model\n",
    "dt = DecisionTreeRegressor(max_depth=3).fit(x_trn, y_trn)\n",
    "l = LinearRegression().fit(x_trn, y_trn)"
   ]
  },
  {
   "cell_type": "code",
   "execution_count": 13,
   "metadata": {},
   "outputs": [
    {
     "data": {
      "text/plain": [
       "<matplotlib.legend.Legend at 0x7fafa063b0b8>"
      ]
     },
     "execution_count": 13,
     "metadata": {},
     "output_type": "execute_result"
    },
    {
     "data": {
      "image/png": "[encoded data removed]",
      "text/plain": [
       "<Figure size 576x288 with 1 Axes>"
      ]
     },
     "metadata": {
      "needs_background": "light"
     },
     "output_type": "display_data"
    }
   ],
   "source": [
    "plt.figure(figsize=(8,4))\n",
    "plt.scatter(x,dt.predict(x[:,None]),color='blue',label='Prediction DT')\n",
    "plt.scatter(x,l.predict(x[:,None]),color='green',label='Prediction Linear')\n",
    "plt.scatter(x,y,color='red',label='Actual')\n",
    "plt.legend(loc='upper left')"
   ]
  },
  {
   "cell_type": "code",
   "execution_count": 7,
   "metadata": {},
   "outputs": [],
   "source": [
    "from sklearn.tree import export_graphviz\n",
    "import IPython, graphviz, re, math"
   ]
  },
  {
   "cell_type": "code",
   "execution_count": 12,
   "metadata": {},
   "outputs": [
    {
     "data": {
      "image/svg+xml": [
       "<?xml version=\"1.0\" encoding=\"UTF-8\" standalone=\"no\"?>\n",
       "<!DOCTYPE svg PUBLIC \"-//W3C//DTD SVG 1.1//EN\"\n",
       " \"http://www.w3.org/Graphics/SVG/1.1/DTD/svg11.dtd\">\n",
       "<!-- Generated by graphviz version 2.40.1 (20161225.0304)\n",
       " -->\n",
       "<!-- Title: Tree Pages: 1 -->\n",
       "<svg width=\"648pt\" height=\"327pt\"\n",
       " viewBox=\"0.00 0.00 648.00 326.85\" xmlns=\"http://www.w3.org/2000/svg\" xmlns:xlink=\"http://www.w3.org/1999/xlink\">\n",
       "<g id=\"graph0\" class=\"graph\" transform=\"scale(.7121 .7121) rotate(0) translate(4 455)\">\n",
       "<title>Tree</title>\n",
       "<polygon fill=\"#ffffff\" stroke=\"transparent\" points=\"-4,4 -4,-455 906,-455 906,4 -4,4\"/>\n",
       "<!-- 0 -->\n",
       "<g id=\"node1\" class=\"node\">\n",
       "<title>0</title>\n",
       "<polygon fill=\"#f2bf9b\" stroke=\"#000000\" points=\"502.5,-443 398.5,-443 398.5,-375 502.5,-375 502.5,-443\"/>\n",
       "<text text-anchor=\"start\" x=\"422\" y=\"-427.8\" font-family=\"Times,serif\" font-size=\"14.00\" fill=\"#000000\">X ≤ 1.001</text>\n",
       "<text text-anchor=\"start\" x=\"415.5\" y=\"-412.8\" font-family=\"Times,serif\" font-size=\"14.00\" fill=\"#000000\">mse = 2.975</text>\n",
       "<text text-anchor=\"start\" x=\"406.5\" y=\"-397.8\" font-family=\"Times,serif\" font-size=\"14.00\" fill=\"#000000\">samples = 7000</text>\n",
       "<text text-anchor=\"start\" x=\"412.5\" y=\"-382.8\" font-family=\"Times,serif\" font-size=\"14.00\" fill=\"#000000\">value = 4.023</text>\n",
       "</g>\n",
       "<!-- 1 -->\n",
       "<g id=\"node2\" class=\"node\">\n",
       "<title>1</title>\n",
       "<polygon fill=\"#f9e4d4\" stroke=\"#000000\" points=\"416.5,-314 312.5,-314 312.5,-246 416.5,-246 416.5,-314\"/>\n",
       "<text text-anchor=\"start\" x=\"336\" y=\"-298.8\" font-family=\"Times,serif\" font-size=\"14.00\" fill=\"#000000\">X ≤ 0.498</text>\n",
       "<text text-anchor=\"start\" x=\"329.5\" y=\"-283.8\" font-family=\"Times,serif\" font-size=\"14.00\" fill=\"#000000\">mse = 0.747</text>\n",
       "<text text-anchor=\"start\" x=\"320.5\" y=\"-268.8\" font-family=\"Times,serif\" font-size=\"14.00\" fill=\"#000000\">samples = 3449</text>\n",
       "<text text-anchor=\"start\" x=\"326.5\" y=\"-253.8\" font-family=\"Times,serif\" font-size=\"14.00\" fill=\"#000000\">value = 2.507</text>\n",
       "</g>\n",
       "<!-- 0&#45;&gt;1 -->\n",
       "<g id=\"edge1\" class=\"edge\">\n",
       "<title>0&#45;&gt;1</title>\n",
       "<path fill=\"none\" stroke=\"#000000\" d=\"M427.6794,-374.769C417.0856,-358.8784 404.3785,-339.8177 393.1471,-322.9706\"/>\n",
       "<polygon fill=\"#000000\" stroke=\"#000000\" points=\"395.8865,-320.77 387.4273,-314.3909 390.0621,-324.6529 395.8865,-320.77\"/>\n",
       "<text text-anchor=\"middle\" x=\"382.5244\" y=\"-335.2054\" font-family=\"Times,serif\" font-size=\"14.00\" fill=\"#000000\">True</text>\n",
       "</g>\n",
       "<!-- 8 -->\n",
       "<g id=\"node9\" class=\"node\">\n",
       "<title>8</title>\n",
       "<polygon fill=\"#eb9c63\" stroke=\"#000000\" points=\"588.5,-314 484.5,-314 484.5,-246 588.5,-246 588.5,-314\"/>\n",
       "<text text-anchor=\"start\" x=\"508\" y=\"-298.8\" font-family=\"Times,serif\" font-size=\"14.00\" fill=\"#000000\">X ≤ 1.502</text>\n",
       "<text text-anchor=\"start\" x=\"501.5\" y=\"-283.8\" font-family=\"Times,serif\" font-size=\"14.00\" fill=\"#000000\">mse = 0.738</text>\n",
       "<text text-anchor=\"start\" x=\"492.5\" y=\"-268.8\" font-family=\"Times,serif\" font-size=\"14.00\" fill=\"#000000\">samples = 3551</text>\n",
       "<text text-anchor=\"start\" x=\"498.5\" y=\"-253.8\" font-family=\"Times,serif\" font-size=\"14.00\" fill=\"#000000\">value = 5.496</text>\n",
       "</g>\n",
       "<!-- 0&#45;&gt;8 -->\n",
       "<g id=\"edge8\" class=\"edge\">\n",
       "<title>0&#45;&gt;8</title>\n",
       "<path fill=\"none\" stroke=\"#000000\" d=\"M473.3206,-374.769C483.9144,-358.8784 496.6215,-339.8177 507.8529,-322.9706\"/>\n",
       "<polygon fill=\"#000000\" stroke=\"#000000\" points=\"510.9379,-324.6529 513.5727,-314.3909 505.1135,-320.77 510.9379,-324.6529\"/>\n",
       "<text text-anchor=\"middle\" x=\"518.4756\" y=\"-335.2054\" font-family=\"Times,serif\" font-size=\"14.00\" fill=\"#000000\">False</text>\n",
       "</g>\n",
       "<!-- 2 -->\n",
       "<g id=\"node3\" class=\"node\">\n",
       "<title>2</title>\n",
       "<polygon fill=\"#fdf6f1\" stroke=\"#000000\" points=\"215.5,-186 111.5,-186 111.5,-118 215.5,-118 215.5,-186\"/>\n",
       "<text text-anchor=\"start\" x=\"135\" y=\"-170.8\" font-family=\"Times,serif\" font-size=\"14.00\" fill=\"#000000\">X ≤ 0.249</text>\n",
       "<text text-anchor=\"start\" x=\"128.5\" y=\"-155.8\" font-family=\"Times,serif\" font-size=\"14.00\" fill=\"#000000\">mse = 0.185</text>\n",
       "<text text-anchor=\"start\" x=\"119.5\" y=\"-140.8\" font-family=\"Times,serif\" font-size=\"14.00\" fill=\"#000000\">samples = 1696</text>\n",
       "<text text-anchor=\"start\" x=\"125.5\" y=\"-125.8\" font-family=\"Times,serif\" font-size=\"14.00\" fill=\"#000000\">value = 1.746</text>\n",
       "</g>\n",
       "<!-- 1&#45;&gt;2 -->\n",
       "<g id=\"edge2\" class=\"edge\">\n",
       "<title>1&#45;&gt;2</title>\n",
       "<path fill=\"none\" stroke=\"#000000\" d=\"M312.4761,-246.8704C285.49,-229.6852 252.372,-208.5951 224.2199,-190.6674\"/>\n",
       "<polygon fill=\"#000000\" stroke=\"#000000\" points=\"225.9697,-187.6323 215.6547,-185.213 222.2096,-193.5367 225.9697,-187.6323\"/>\n",
       "</g>\n",
       "<!-- 5 -->\n",
       "<g id=\"node6\" class=\"node\">\n",
       "<title>5</title>\n",
       "<polygon fill=\"#f6d2b8\" stroke=\"#000000\" points=\"416.5,-186 312.5,-186 312.5,-118 416.5,-118 416.5,-186\"/>\n",
       "<text text-anchor=\"start\" x=\"336\" y=\"-170.8\" font-family=\"Times,serif\" font-size=\"14.00\" fill=\"#000000\">X ≤ 0.748</text>\n",
       "<text text-anchor=\"start\" x=\"329.5\" y=\"-155.8\" font-family=\"Times,serif\" font-size=\"14.00\" fill=\"#000000\">mse = 0.188</text>\n",
       "<text text-anchor=\"start\" x=\"320.5\" y=\"-140.8\" font-family=\"Times,serif\" font-size=\"14.00\" fill=\"#000000\">samples = 1753</text>\n",
       "<text text-anchor=\"start\" x=\"326.5\" y=\"-125.8\" font-family=\"Times,serif\" font-size=\"14.00\" fill=\"#000000\">value = 3.243</text>\n",
       "</g>\n",
       "<!-- 1&#45;&gt;5 -->\n",
       "<g id=\"edge5\" class=\"edge\">\n",
       "<title>1&#45;&gt;5</title>\n",
       "<path fill=\"none\" stroke=\"#000000\" d=\"M364.5,-245.6983C364.5,-230.6332 364.5,-212.7471 364.5,-196.6602\"/>\n",
       "<polygon fill=\"#000000\" stroke=\"#000000\" points=\"368.0001,-196.3963 364.5,-186.3963 361.0001,-196.3964 368.0001,-196.3963\"/>\n",
       "</g>\n",
       "<!-- 3 -->\n",
       "<g id=\"node4\" class=\"node\">\n",
       "<title>3</title>\n",
       "<polygon fill=\"#ffffff\" stroke=\"#000000\" points=\"97,-59.5 0,-59.5 0,-6.5 97,-6.5 97,-59.5\"/>\n",
       "<text text-anchor=\"start\" x=\"13.5\" y=\"-44.3\" font-family=\"Times,serif\" font-size=\"14.00\" fill=\"#000000\">mse = 0.047</text>\n",
       "<text text-anchor=\"start\" x=\"8\" y=\"-29.3\" font-family=\"Times,serif\" font-size=\"14.00\" fill=\"#000000\">samples = 851</text>\n",
       "<text text-anchor=\"start\" x=\"10.5\" y=\"-14.3\" font-family=\"Times,serif\" font-size=\"14.00\" fill=\"#000000\">value = 1.375</text>\n",
       "</g>\n",
       "<!-- 2&#45;&gt;3 -->\n",
       "<g id=\"edge3\" class=\"edge\">\n",
       "<title>2&#45;&gt;3</title>\n",
       "<path fill=\"none\" stroke=\"#000000\" d=\"M130.5456,-117.8994C115.1453,-101.9634 96.8531,-83.0349 81.453,-67.0992\"/>\n",
       "<polygon fill=\"#000000\" stroke=\"#000000\" points=\"83.6166,-64.3015 74.1506,-59.5428 78.583,-69.1659 83.6166,-64.3015\"/>\n",
       "</g>\n",
       "<!-- 4 -->\n",
       "<g id=\"node5\" class=\"node\">\n",
       "<title>4</title>\n",
       "<polygon fill=\"#fbede3\" stroke=\"#000000\" points=\"212,-59.5 115,-59.5 115,-6.5 212,-6.5 212,-59.5\"/>\n",
       "<text text-anchor=\"start\" x=\"128.5\" y=\"-44.3\" font-family=\"Times,serif\" font-size=\"14.00\" fill=\"#000000\">mse = 0.046</text>\n",
       "<text text-anchor=\"start\" x=\"123\" y=\"-29.3\" font-family=\"Times,serif\" font-size=\"14.00\" fill=\"#000000\">samples = 845</text>\n",
       "<text text-anchor=\"start\" x=\"128.5\" y=\"-14.3\" font-family=\"Times,serif\" font-size=\"14.00\" fill=\"#000000\">value = 2.12</text>\n",
       "</g>\n",
       "<!-- 2&#45;&gt;4 -->\n",
       "<g id=\"edge4\" class=\"edge\">\n",
       "<title>2&#45;&gt;4</title>\n",
       "<path fill=\"none\" stroke=\"#000000\" d=\"M163.5,-117.8994C163.5,-102.8327 163.5,-85.091 163.5,-69.7326\"/>\n",
       "<polygon fill=\"#000000\" stroke=\"#000000\" points=\"167.0001,-69.5427 163.5,-59.5428 160.0001,-69.5428 167.0001,-69.5427\"/>\n",
       "</g>\n",
       "<!-- 6 -->\n",
       "<g id=\"node7\" class=\"node\">\n",
       "<title>6</title>\n",
       "<polygon fill=\"#f8dbc7\" stroke=\"#000000\" points=\"327,-59.5 230,-59.5 230,-6.5 327,-6.5 327,-59.5\"/>\n",
       "<text text-anchor=\"start\" x=\"243.5\" y=\"-44.3\" font-family=\"Times,serif\" font-size=\"14.00\" fill=\"#000000\">mse = 0.047</text>\n",
       "<text text-anchor=\"start\" x=\"238\" y=\"-29.3\" font-family=\"Times,serif\" font-size=\"14.00\" fill=\"#000000\">samples = 876</text>\n",
       "<text text-anchor=\"start\" x=\"240.5\" y=\"-14.3\" font-family=\"Times,serif\" font-size=\"14.00\" fill=\"#000000\">value = 2.867</text>\n",
       "</g>\n",
       "<!-- 5&#45;&gt;6 -->\n",
       "<g id=\"edge6\" class=\"edge\">\n",
       "<title>5&#45;&gt;6</title>\n",
       "<path fill=\"none\" stroke=\"#000000\" d=\"M339.8559,-117.8994C328.5485,-102.2532 315.1564,-83.7223 303.7734,-67.9713\"/>\n",
       "<polygon fill=\"#000000\" stroke=\"#000000\" points=\"306.3764,-65.5977 297.6822,-59.5428 300.7029,-69.6979 306.3764,-65.5977\"/>\n",
       "</g>\n",
       "<!-- 7 -->\n",
       "<g id=\"node8\" class=\"node\">\n",
       "<title>7</title>\n",
       "<polygon fill=\"#f4c9aa\" stroke=\"#000000\" points=\"442,-59.5 345,-59.5 345,-6.5 442,-6.5 442,-59.5\"/>\n",
       "<text text-anchor=\"start\" x=\"358.5\" y=\"-44.3\" font-family=\"Times,serif\" font-size=\"14.00\" fill=\"#000000\">mse = 0.048</text>\n",
       "<text text-anchor=\"start\" x=\"353\" y=\"-29.3\" font-family=\"Times,serif\" font-size=\"14.00\" fill=\"#000000\">samples = 877</text>\n",
       "<text text-anchor=\"start\" x=\"355.5\" y=\"-14.3\" font-family=\"Times,serif\" font-size=\"14.00\" fill=\"#000000\">value = 3.618</text>\n",
       "</g>\n",
       "<!-- 5&#45;&gt;7 -->\n",
       "<g id=\"edge7\" class=\"edge\">\n",
       "<title>5&#45;&gt;7</title>\n",
       "<path fill=\"none\" stroke=\"#000000\" d=\"M372.8102,-117.8994C376.5173,-102.6878 380.8888,-84.7495 384.6562,-69.2902\"/>\n",
       "<polygon fill=\"#000000\" stroke=\"#000000\" points=\"388.0643,-70.0872 387.0316,-59.5428 381.2634,-68.4297 388.0643,-70.0872\"/>\n",
       "</g>\n",
       "<!-- 9 -->\n",
       "<g id=\"node10\" class=\"node\">\n",
       "<title>9</title>\n",
       "<polygon fill=\"#eeae7f\" stroke=\"#000000\" points=\"588.5,-186 484.5,-186 484.5,-118 588.5,-118 588.5,-186\"/>\n",
       "<text text-anchor=\"start\" x=\"508\" y=\"-170.8\" font-family=\"Times,serif\" font-size=\"14.00\" fill=\"#000000\">X ≤ 1.252</text>\n",
       "<text text-anchor=\"start\" x=\"501.5\" y=\"-155.8\" font-family=\"Times,serif\" font-size=\"14.00\" fill=\"#000000\">mse = 0.188</text>\n",
       "<text text-anchor=\"start\" x=\"492.5\" y=\"-140.8\" font-family=\"Times,serif\" font-size=\"14.00\" fill=\"#000000\">samples = 1801</text>\n",
       "<text text-anchor=\"start\" x=\"498.5\" y=\"-125.8\" font-family=\"Times,serif\" font-size=\"14.00\" fill=\"#000000\">value = 4.762</text>\n",
       "</g>\n",
       "<!-- 8&#45;&gt;9 -->\n",
       "<g id=\"edge9\" class=\"edge\">\n",
       "<title>8&#45;&gt;9</title>\n",
       "<path fill=\"none\" stroke=\"#000000\" d=\"M536.5,-245.6983C536.5,-230.6332 536.5,-212.7471 536.5,-196.6602\"/>\n",
       "<polygon fill=\"#000000\" stroke=\"#000000\" points=\"540.0001,-196.3963 536.5,-186.3963 533.0001,-196.3964 540.0001,-196.3963\"/>\n",
       "</g>\n",
       "<!-- 12 -->\n",
       "<g id=\"node13\" class=\"node\">\n",
       "<title>12</title>\n",
       "<polygon fill=\"#e78a47\" stroke=\"#000000\" points=\"790.5,-186 686.5,-186 686.5,-118 790.5,-118 790.5,-186\"/>\n",
       "<text text-anchor=\"start\" x=\"713.5\" y=\"-170.8\" font-family=\"Times,serif\" font-size=\"14.00\" fill=\"#000000\">X ≤ 1.75</text>\n",
       "<text text-anchor=\"start\" x=\"703.5\" y=\"-155.8\" font-family=\"Times,serif\" font-size=\"14.00\" fill=\"#000000\">mse = 0.182</text>\n",
       "<text text-anchor=\"start\" x=\"694.5\" y=\"-140.8\" font-family=\"Times,serif\" font-size=\"14.00\" fill=\"#000000\">samples = 1750</text>\n",
       "<text text-anchor=\"start\" x=\"703.5\" y=\"-125.8\" font-family=\"Times,serif\" font-size=\"14.00\" fill=\"#000000\">value = 6.25</text>\n",
       "</g>\n",
       "<!-- 8&#45;&gt;12 -->\n",
       "<g id=\"edge12\" class=\"edge\">\n",
       "<title>8&#45;&gt;12</title>\n",
       "<path fill=\"none\" stroke=\"#000000\" d=\"M588.52,-247.0368C615.746,-229.7847 649.2374,-208.5625 677.66,-190.5521\"/>\n",
       "<polygon fill=\"#000000\" stroke=\"#000000\" points=\"679.732,-193.3827 686.3056,-185.0737 675.9852,-187.4698 679.732,-193.3827\"/>\n",
       "</g>\n",
       "<!-- 10 -->\n",
       "<g id=\"node11\" class=\"node\">\n",
       "<title>10</title>\n",
       "<polygon fill=\"#f0b78e\" stroke=\"#000000\" points=\"557,-59.5 460,-59.5 460,-6.5 557,-6.5 557,-59.5\"/>\n",
       "<text text-anchor=\"start\" x=\"473.5\" y=\"-44.3\" font-family=\"Times,serif\" font-size=\"14.00\" fill=\"#000000\">mse = 0.047</text>\n",
       "<text text-anchor=\"start\" x=\"468\" y=\"-29.3\" font-family=\"Times,serif\" font-size=\"14.00\" fill=\"#000000\">samples = 884</text>\n",
       "<text text-anchor=\"start\" x=\"473.5\" y=\"-14.3\" font-family=\"Times,serif\" font-size=\"14.00\" fill=\"#000000\">value = 4.38</text>\n",
       "</g>\n",
       "<!-- 9&#45;&gt;10 -->\n",
       "<g id=\"edge10\" class=\"edge\">\n",
       "<title>9&#45;&gt;10</title>\n",
       "<path fill=\"none\" stroke=\"#000000\" d=\"M528.4763,-117.8994C524.8971,-102.6878 520.6764,-84.7495 517.0389,-69.2902\"/>\n",
       "<polygon fill=\"#000000\" stroke=\"#000000\" points=\"520.4428,-68.4753 514.7454,-59.5428 513.6289,-70.0786 520.4428,-68.4753\"/>\n",
       "</g>\n",
       "<!-- 11 -->\n",
       "<g id=\"node12\" class=\"node\">\n",
       "<title>11</title>\n",
       "<polygon fill=\"#eca571\" stroke=\"#000000\" points=\"672,-59.5 575,-59.5 575,-6.5 672,-6.5 672,-59.5\"/>\n",
       "<text text-anchor=\"start\" x=\"588.5\" y=\"-44.3\" font-family=\"Times,serif\" font-size=\"14.00\" fill=\"#000000\">mse = 0.046</text>\n",
       "<text text-anchor=\"start\" x=\"583\" y=\"-29.3\" font-family=\"Times,serif\" font-size=\"14.00\" fill=\"#000000\">samples = 917</text>\n",
       "<text text-anchor=\"start\" x=\"585.5\" y=\"-14.3\" font-family=\"Times,serif\" font-size=\"14.00\" fill=\"#000000\">value = 5.131</text>\n",
       "</g>\n",
       "<!-- 9&#45;&gt;11 -->\n",
       "<g id=\"edge11\" class=\"edge\">\n",
       "<title>9&#45;&gt;11</title>\n",
       "<path fill=\"none\" stroke=\"#000000\" d=\"M561.4307,-117.8994C572.8695,-102.2532 586.4173,-83.7223 597.9327,-67.9713\"/>\n",
       "<polygon fill=\"#000000\" stroke=\"#000000\" points=\"601.0183,-69.6811 604.0948,-59.5428 595.3674,-65.5498 601.0183,-69.6811\"/>\n",
       "</g>\n",
       "<!-- 13 -->\n",
       "<g id=\"node14\" class=\"node\">\n",
       "<title>13</title>\n",
       "<polygon fill=\"#e99355\" stroke=\"#000000\" points=\"787,-59.5 690,-59.5 690,-6.5 787,-6.5 787,-59.5\"/>\n",
       "<text text-anchor=\"start\" x=\"703.5\" y=\"-44.3\" font-family=\"Times,serif\" font-size=\"14.00\" fill=\"#000000\">mse = 0.046</text>\n",
       "<text text-anchor=\"start\" x=\"698\" y=\"-29.3\" font-family=\"Times,serif\" font-size=\"14.00\" fill=\"#000000\">samples = 878</text>\n",
       "<text text-anchor=\"start\" x=\"700.5\" y=\"-14.3\" font-family=\"Times,serif\" font-size=\"14.00\" fill=\"#000000\">value = 5.884</text>\n",
       "</g>\n",
       "<!-- 12&#45;&gt;13 -->\n",
       "<g id=\"edge13\" class=\"edge\">\n",
       "<title>12&#45;&gt;13</title>\n",
       "<path fill=\"none\" stroke=\"#000000\" d=\"M738.5,-117.8994C738.5,-102.8327 738.5,-85.091 738.5,-69.7326\"/>\n",
       "<polygon fill=\"#000000\" stroke=\"#000000\" points=\"742.0001,-69.5427 738.5,-59.5428 735.0001,-69.5428 742.0001,-69.5427\"/>\n",
       "</g>\n",
       "<!-- 14 -->\n",
       "<g id=\"node15\" class=\"node\">\n",
       "<title>14</title>\n",
       "<polygon fill=\"#e58139\" stroke=\"#000000\" points=\"902,-59.5 805,-59.5 805,-6.5 902,-6.5 902,-59.5\"/>\n",
       "<text text-anchor=\"start\" x=\"818.5\" y=\"-44.3\" font-family=\"Times,serif\" font-size=\"14.00\" fill=\"#000000\">mse = 0.047</text>\n",
       "<text text-anchor=\"start\" x=\"813\" y=\"-29.3\" font-family=\"Times,serif\" font-size=\"14.00\" fill=\"#000000\">samples = 872</text>\n",
       "<text text-anchor=\"start\" x=\"815.5\" y=\"-14.3\" font-family=\"Times,serif\" font-size=\"14.00\" fill=\"#000000\">value = 6.619</text>\n",
       "</g>\n",
       "<!-- 12&#45;&gt;14 -->\n",
       "<g id=\"edge14\" class=\"edge\">\n",
       "<title>12&#45;&gt;14</title>\n",
       "<path fill=\"none\" stroke=\"#000000\" d=\"M771.4544,-117.8994C786.8547,-101.9634 805.1469,-83.0349 820.547,-67.0992\"/>\n",
       "<polygon fill=\"#000000\" stroke=\"#000000\" points=\"823.417,-69.1659 827.8494,-59.5428 818.3834,-64.3015 823.417,-69.1659\"/>\n",
       "</g>\n",
       "</g>\n",
       "</svg>\n"
      ],
      "text/plain": [
       "<graphviz.files.Source at 0x7fafa0610710>"
      ]
     },
     "metadata": {},
     "output_type": "display_data"
    }
   ],
   "source": [
    "def draw_tree(t, col_names, size=9, ratio=0.5, precision=3):\n",
    "    \"\"\" Draws a representation of a random forest in IPython.\n",
    "    Parameters:\n",
    "    -----------\n",
    "    t: The tree you wish to draw\n",
    "    df: The data used to train the tree. This is used to get the names of the features.\n",
    "    \"\"\"\n",
    "    s = export_graphviz(t, out_file=None, feature_names=col_names, filled=True,\n",
    "                      special_characters=True, rotate=False, precision=precision)\n",
    "    \n",
    "    IPython.display.display(graphviz.Source(re.sub('Tree {', f'Tree {{ size={size}; ratio={ratio}',s)))\n",
    "    \n",
    "col_names =['X']\n",
    "draw_tree(dt, col_names, precision=3)"
   ]
  }
 ],
 "metadata": {
  "kernelspec": {
   "display_name": "Python 3",
   "language": "python",
   "name": "python3"
  },
  "language_info": {
   "codemirror_mode": {
    "name": "ipython",
    "version": 3
   },
   "file_extension": ".py",
   "mimetype": "text/x-python",
   "name": "python",
   "nbconvert_exporter": "python",
   "pygments_lexer": "ipython3",
   "version": "3.7.3"
  }
 },
 "nbformat": 4,
 "nbformat_minor": 2
}
